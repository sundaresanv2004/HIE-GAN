{
 "cells": [
  {
   "cell_type": "code",
   "id": "initial_id",
   "metadata": {
    "collapsed": true
   },
   "source": [
    "%load_ext autoreload\n",
    "%autoreload 2\n",
    "\n",
    "import torch\n",
    "from torch.utils.data import DataLoader\n",
    "from torchvision.utils import make_grid\n",
    "import matplotlib.pyplot as plt\n",
    "\n",
    "from hiegan.config import Config\n",
    "from hiegan.dataset import ShapeNetMVDataset\n",
    "from hiegan.utils.mesh_utils import load_and_normalize_mesh, mesh_to_pointcloud\n",
    "from hiegan.utils.render_utils import simple_renderer, render_mesh_rgb\n",
    "from hiegan.models.generator import HIEGenerator\n"
   ],
   "outputs": [],
   "execution_count": null
  },
  {
   "metadata": {},
   "cell_type": "code",
   "source": [
    "cfg = Config()\n",
    "device = torch.device(cfg.DEVICE if torch.cuda.is_available() or cfg.DEVICE==\"mps\" else \"cpu\")\n",
    "print(\"Using device:\", device)"
   ],
   "id": "743ae8833b17805f",
   "outputs": [],
   "execution_count": null
  },
  {
   "metadata": {},
   "cell_type": "code",
   "source": [
    "# Dataset + Loader\n",
    "ds = ShapeNetMVDataset(cfg.DATASET_ROOT, image_size=cfg.IMAGE_SIZE, multi_view=cfg.MULTI_VIEW)\n",
    "print(\"Dataset size:\", len(ds))\n",
    "dl = DataLoader(ds, batch_size=1, shuffle=True, num_workers=0)"
   ],
   "id": "509e7db158e27efa",
   "outputs": [],
   "execution_count": null
  },
  {
   "metadata": {},
   "cell_type": "code",
   "source": [
    "# Fetch one sample\n",
    "imgs, mesh_path = next(iter(dl))\n",
    "print(\"Images tensor shape (V,3,H,W):\", imgs.shape)\n",
    "print(\"Mesh path:\", mesh_path)"
   ],
   "id": "97e0a24467fa4efd",
   "outputs": [],
   "execution_count": null
  },
  {
   "metadata": {},
   "cell_type": "code",
   "source": [
    "# Show the input image(s)\n",
    "grid = make_grid(imgs, nrow=imgs.shape[0], normalize=True, value_range=(-1,1)).squeeze(0)\n",
    "plt.figure()\n",
    "plt.title(\"Input view(s)\")\n",
    "plt.axis(\"off\")\n",
    "plt.imshow(grid.permute(1,2,0).cpu())\n",
    "plt.show()"
   ],
   "id": "fe18867dfc7cef95",
   "outputs": [],
   "execution_count": null
  },
  {
   "metadata": {},
   "cell_type": "code",
   "source": [
    "# Load & render the GT mesh\n",
    "mesh = load_and_normalize_mesh(mesh_path[0], device=str(device))\n",
    "renderer = simple_renderer(image_size=256, device=str(device))\n",
    "rgb = render_mesh_rgb(mesh, renderer, device=str(device))[0].cpu().numpy()\n",
    "plt.figure()\n",
    "plt.title(\"GT Mesh quick render\")\n",
    "plt.axis(\"off\")\n",
    "plt.imshow(rgb)\n",
    "plt.show()"
   ],
   "id": "e751e7f206f45358",
   "outputs": [],
   "execution_count": null
  },
  {
   "metadata": {},
   "cell_type": "code",
   "source": [
    "# Sample points for later metrics\n",
    "pts = mesh_to_pointcloud(mesh, num_samples=2048)\n",
    "print(\"Sampled pointcloud:\", pts.shape)"
   ],
   "id": "60e94c306f8849f9",
   "outputs": [],
   "execution_count": null
  },
  {
   "metadata": {},
   "cell_type": "code",
   "source": [
    "G = HIEGenerator(latent_dim=512, device=device).to(device)\n",
    "G.eval()"
   ],
   "id": "49609fb06c1a36f3",
   "outputs": [],
   "execution_count": null
  },
  {
   "metadata": {},
   "cell_type": "code",
   "source": [
    "imgs, mesh_paths = next(iter(dl))  # imgs: (B, n_views, 3, H, W)\n",
    "imgs = imgs.to(device)\n",
    "print(\"Images shape:\", imgs.shape)"
   ],
   "id": "2ed82386d695a076",
   "outputs": [],
   "execution_count": null
  },
  {
   "metadata": {},
   "cell_type": "code",
   "source": [
    "template_mesh = load_and_normalize_mesh(mesh_paths[0], device=device)\n",
    "template_vertices = template_mesh.verts_list()[0]\n",
    "# Dummy edges for testing (replace with actual mesh edges for GCN)\n",
    "edge_index = torch.tensor([[0,1],[1,0]], dtype=torch.long).to(device)"
   ],
   "id": "a00d09112792325a",
   "outputs": [],
   "execution_count": null
  },
  {
   "metadata": {},
   "cell_type": "code",
   "source": [
    "# Sample points for implicit branch\n",
    "sample_xyz = torch.rand(1, 1024, 3, device=device)*2 - 1\n",
    "\n",
    "# Forward pass\n",
    "with torch.no_grad():\n",
    "    out = G(imgs, template_mesh_vertices=template_vertices,\n",
    "            template_mesh_edges=edge_index, sample_xyz=sample_xyz)\n",
    "\n",
    "fused_vertices = out['fused_vertices']  # (B, V, 3)"
   ],
   "id": "6e1434fe9d30dea3",
   "outputs": [],
   "execution_count": null
  },
  {
   "metadata": {},
   "cell_type": "code",
   "source": [
    "# Convert fused mesh to point cloud (or use explicit vertices directly)\n",
    "pc = fused_vertices.squeeze(0).cpu()\n",
    "print(\"Point cloud shape:\", pc.shape)"
   ],
   "id": "7c66b2cd6cb072f8",
   "outputs": [],
   "execution_count": null
  },
  {
   "metadata": {},
   "cell_type": "code",
   "source": [
    "# Step 9: Visualize point cloud\n",
    "from mpl_toolkits.mplot3d import Axes3D\n",
    "\n",
    "fig = plt.figure(figsize=(6,6))\n",
    "ax = fig.add_subplot(111, projection='3d')\n",
    "ax.scatter(pc[:,0], pc[:,1], pc[:,2], s=1, c='blue')\n",
    "ax.set_title(\"Fused Mesh Point Cloud Preview\")\n",
    "ax.set_xlabel(\"X\")\n",
    "ax.set_ylabel(\"Y\")\n",
    "ax.set_zlabel(\"Z\")\n",
    "plt.show()"
   ],
   "id": "8ecf1a24da92b48",
   "outputs": [],
   "execution_count": null
  }
 ],
 "metadata": {
  "kernelspec": {
   "display_name": "Python 3",
   "language": "python",
   "name": "python3"
  },
  "language_info": {
   "codemirror_mode": {
    "name": "ipython",
    "version": 2
   },
   "file_extension": ".py",
   "mimetype": "text/x-python",
   "name": "python",
   "nbconvert_exporter": "python",
   "pygments_lexer": "ipython2",
   "version": "2.7.6"
  }
 },
 "nbformat": 4,
 "nbformat_minor": 5
}
